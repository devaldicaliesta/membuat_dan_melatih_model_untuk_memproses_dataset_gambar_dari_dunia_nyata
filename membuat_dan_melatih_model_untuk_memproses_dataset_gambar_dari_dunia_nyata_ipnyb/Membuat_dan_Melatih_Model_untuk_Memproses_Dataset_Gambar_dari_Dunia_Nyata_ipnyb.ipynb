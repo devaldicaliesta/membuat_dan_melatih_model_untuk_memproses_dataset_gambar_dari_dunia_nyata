{
  "cells": [
    {
      "cell_type": "code",
      "execution_count": null,
      "metadata": {
        "colab": {
          "base_uri": "https://localhost:8080/"
        },
        "id": "Q7ASRrlTrRti",
        "outputId": "ad108c02-fac5-4583-dcf6-c08b00c29e32"
      },
      "outputs": [
        {
          "name": "stdout",
          "output_type": "stream",
          "text": [
            "--2021-09-12 06:54:55--  https://github.com/dicodingacademy/assets/raw/main/ml_pengembangan_academy/Chessman-image-dataset.zip\n",
            "Resolving github.com (github.com)... 140.82.113.3\n",
            "Connecting to github.com (github.com)|140.82.113.3|:443... connected.\n",
            "HTTP request sent, awaiting response... 302 Found\n",
            "Location: https://raw.githubusercontent.com/dicodingacademy/assets/main/ml_pengembangan_academy/Chessman-image-dataset.zip [following]\n",
            "--2021-09-12 06:54:55--  https://raw.githubusercontent.com/dicodingacademy/assets/main/ml_pengembangan_academy/Chessman-image-dataset.zip\n",
            "Resolving raw.githubusercontent.com (raw.githubusercontent.com)... 185.199.109.133, 185.199.108.133, 185.199.111.133, ...\n",
            "Connecting to raw.githubusercontent.com (raw.githubusercontent.com)|185.199.109.133|:443... connected.\n",
            "HTTP request sent, awaiting response... 200 OK\n",
            "Length: 60684125 (58M) [application/zip]\n",
            "Saving to: ‘/tmp/Chessman-image-dataset.zip’\n",
            "\n",
            "/tmp/Chessman-image 100%[===================>]  57.87M   172MB/s    in 0.3s    \n",
            "\n",
            "2021-09-12 06:54:56 (172 MB/s) - ‘/tmp/Chessman-image-dataset.zip’ saved [60684125/60684125]\n",
            "\n"
          ]
        }
      ],
      "source": [
        "!wget --no-check-certificate \\\n",
        "  https://github.com/dicodingacademy/assets/raw/main/ml_pengembangan_academy/Chessman-image-dataset.zip \\\n",
        "  -O /tmp/Chessman-image-dataset.zip"
      ]
    },
    {
      "cell_type": "code",
      "execution_count": null,
      "metadata": {
        "id": "x27GfcgrtYvT"
      },
      "outputs": [],
      "source": [
        "import os\n",
        "import zipfile\n",
        "from tensorflow.keras.preprocessing.image import ImageDataGenerator\n",
        "local_zip = '/tmp/Chessman-image-dataset.zip'\n",
        "zip_ref = zipfile.ZipFile(local_zip, 'r')\n",
        "zip_ref.extractall('/tmp')\n",
        "zip_ref.close()\n",
        "train_dir = os.path.join('/tmp/Chessman-image-dataset/Chess')\n",
        "train_datagen = ImageDataGenerator(rescale=1./255,\n",
        "    rotation_range=20,\n",
        "    zoom_range=0.2,\n",
        "    shear_range=0.2,\n",
        "    fill_mode = 'nearest',\n",
        "    validation_split=0.1) # set validation split"
      ]
    },
    {
      "cell_type": "code",
      "execution_count": null,
      "metadata": {
        "colab": {
          "base_uri": "https://localhost:8080/"
        },
        "id": "gzBfGNe-ygbf",
        "outputId": "d2f8520d-af2e-4fd3-bc9a-2d4b5076f862"
      },
      "outputs": [
        {
          "name": "stdout",
          "output_type": "stream",
          "text": [
            "Found 499 images belonging to 6 classes.\n",
            "Found 52 images belonging to 6 classes.\n"
          ]
        }
      ],
      "source": [
        "train_generator = train_datagen.flow_from_directory(\n",
        "    train_dir,\n",
        "    target_size=(150, 150),\n",
        "    batch_size=8,\n",
        "    class_mode='categorical',\n",
        "    subset='training') # set as training data\n",
        "validation_generator = train_datagen.flow_from_directory(\n",
        "    train_dir, # same directory as training data\n",
        "    target_size=(150, 150),\n",
        "    batch_size=16,\n",
        "    class_mode='categorical',\n",
        "    subset='validation')"
      ]
    },
    {
      "cell_type": "code",
      "execution_count": null,
      "metadata": {
        "colab": {
          "base_uri": "https://localhost:8080/"
        },
        "id": "uRUwZdXdyhMq",
        "outputId": "af1187b0-de69-4c64-86ea-9fe4609c85be"
      },
      "outputs": [
        {
          "name": "stdout",
          "output_type": "stream",
          "text": [
            "Downloading data from https://storage.googleapis.com/tensorflow/keras-applications/resnet/resnet152v2_weights_tf_dim_ordering_tf_kernels_notop.h5\n",
            "234553344/234545216 [==============================] - 2s 0us/step\n",
            "234561536/234545216 [==============================] - 2s 0us/step\n"
          ]
        }
      ],
      "source": [
        "import tensorflow as tf\n",
        "from tensorflow.keras.layers import Input\n",
        "from tensorflow.keras.applications import ResNet50\n",
        "from tensorflow.keras.applications import ResNet152V2\n",
        "model = tf.keras.models.Sequential([\n",
        "    ResNet152V2(weights=\"imagenet\", include_top=False, input_tensor=Input(shape=(150, 150, 3))),\n",
        "    # tf.keras.layers.Dropout(0.4),\n",
        "    tf.keras.layers.Flatten(), \n",
        "    tf.keras.layers.Dense(512, activation='relu'),\n",
        "    tf.keras.layers.Dense(256, activation='relu'),\n",
        "    tf.keras.layers.Dense(6, activation='softmax')  \n",
        "])\n",
        "model.layers[0].trainable = False"
      ]
    },
    {
      "cell_type": "code",
      "execution_count": null,
      "metadata": {
        "id": "zvQwRkPHzAqG"
      },
      "outputs": [],
      "source": [
        "model.compile(optimizer=tf.optimizers.Adam(),\n",
        "              loss='categorical_crossentropy',\n",
        "              metrics = ['accuracy'])"
      ]
    },
    {
      "cell_type": "code",
      "execution_count": null,
      "metadata": {
        "colab": {
          "background_save": true,
          "base_uri": "https://localhost:8080/"
        },
        "id": "JI0iVTSszB0_",
        "outputId": "caaf0137-66fe-4449-ccb6-f5841294bafd"
      },
      "outputs": [
        {
          "name": "stdout",
          "output_type": "stream",
          "text": [
            "Epoch 1/50\n",
            "63/63 - 139s - loss: 9.8246 - accuracy: 0.4449 - val_loss: 4.6101 - val_accuracy: 0.6154\n",
            "Epoch 2/50\n",
            "63/63 - 128s - loss: 2.3162 - accuracy: 0.6774 - val_loss: 0.9163 - val_accuracy: 0.7115\n",
            "Epoch 3/50\n",
            "63/63 - 127s - loss: 0.9724 - accuracy: 0.8236 - val_loss: 1.8973 - val_accuracy: 0.5962\n",
            "Epoch 4/50\n",
            "63/63 - 127s - loss: 0.7233 - accuracy: 0.8056 - val_loss: 1.4616 - val_accuracy: 0.6731\n",
            "Epoch 5/50\n",
            "63/63 - 127s - loss: 0.7865 - accuracy: 0.8417 - val_loss: 1.3900 - val_accuracy: 0.6346\n",
            "Epoch 6/50\n",
            "63/63 - 127s - loss: 0.6594 - accuracy: 0.8597 - val_loss: 1.4842 - val_accuracy: 0.7308\n",
            "Epoch 7/50\n",
            "63/63 - 127s - loss: 0.8605 - accuracy: 0.8437 - val_loss: 1.2214 - val_accuracy: 0.7692\n",
            "Epoch 8/50\n",
            "63/63 - 127s - loss: 0.5251 - accuracy: 0.8838 - val_loss: 1.3448 - val_accuracy: 0.7308\n",
            "Epoch 9/50\n",
            "63/63 - 127s - loss: 0.5154 - accuracy: 0.8697 - val_loss: 1.5061 - val_accuracy: 0.6731\n",
            "Epoch 10/50\n",
            "63/63 - 127s - loss: 0.6672 - accuracy: 0.8477 - val_loss: 1.9127 - val_accuracy: 0.6923\n",
            "Epoch 11/50\n",
            "63/63 - 126s - loss: 0.5988 - accuracy: 0.8577 - val_loss: 1.1907 - val_accuracy: 0.7308\n",
            "Epoch 12/50\n",
            "63/63 - 126s - loss: 0.5427 - accuracy: 0.8818 - val_loss: 0.5370 - val_accuracy: 0.8462\n",
            "Epoch 13/50\n",
            "63/63 - 126s - loss: 0.4282 - accuracy: 0.8998 - val_loss: 1.0790 - val_accuracy: 0.7115\n",
            "Epoch 14/50\n",
            "63/63 - 126s - loss: 0.3762 - accuracy: 0.9038 - val_loss: 1.2958 - val_accuracy: 0.7500\n",
            "Epoch 15/50\n",
            "63/63 - 126s - loss: 0.4174 - accuracy: 0.8978 - val_loss: 1.4412 - val_accuracy: 0.7692\n",
            "Epoch 16/50\n",
            "63/63 - 126s - loss: 0.3989 - accuracy: 0.9058 - val_loss: 1.1460 - val_accuracy: 0.8269\n",
            "Epoch 17/50\n",
            "63/63 - 127s - loss: 0.2564 - accuracy: 0.9399 - val_loss: 1.0292 - val_accuracy: 0.8077\n",
            "Epoch 18/50\n",
            "63/63 - 126s - loss: 0.3611 - accuracy: 0.9399 - val_loss: 0.9029 - val_accuracy: 0.8077\n",
            "Epoch 19/50\n",
            "63/63 - 126s - loss: 0.1404 - accuracy: 0.9559 - val_loss: 0.9207 - val_accuracy: 0.8269\n",
            "Epoch 20/50\n",
            "63/63 - 126s - loss: 0.1813 - accuracy: 0.9419 - val_loss: 1.1922 - val_accuracy: 0.7885\n",
            "Epoch 21/50\n",
            "63/63 - 126s - loss: 0.2950 - accuracy: 0.9279 - val_loss: 1.3771 - val_accuracy: 0.6731\n",
            "Epoch 22/50\n",
            "63/63 - 126s - loss: 0.2168 - accuracy: 0.9559 - val_loss: 0.9651 - val_accuracy: 0.7500\n",
            "Epoch 23/50\n",
            "63/63 - 126s - loss: 0.2116 - accuracy: 0.9459 - val_loss: 1.3063 - val_accuracy: 0.7500\n",
            "Epoch 24/50\n",
            "63/63 - 126s - loss: 0.2194 - accuracy: 0.9359 - val_loss: 1.1630 - val_accuracy: 0.8077\n",
            "Epoch 25/50\n",
            "63/63 - 126s - loss: 0.1864 - accuracy: 0.9479 - val_loss: 1.8811 - val_accuracy: 0.6538\n",
            "Epoch 26/50\n",
            "63/63 - 126s - loss: 0.3488 - accuracy: 0.9178 - val_loss: 0.9867 - val_accuracy: 0.7500\n",
            "Epoch 27/50\n"
          ]
        }
      ],
      "source": [
        "history = model.fit(train_generator,\n",
        "                              validation_data=validation_generator,\n",
        "                              epochs=50,\n",
        "                              verbose=2)"
      ]
    }
  ],
  "metadata": {
    "colab": {
      "name": "Membuat dan Melatih Model untuk Memproses Dataset Gambar dari Dunia Nyata.ipnyb",
      "provenance": []
    },
    "kernelspec": {
      "display_name": "Python 3",
      "name": "python3"
    },
    "language_info": {
      "name": "python"
    }
  },
  "nbformat": 4,
  "nbformat_minor": 0
}